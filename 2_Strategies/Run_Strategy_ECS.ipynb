{
 "cells": [
  {
   "cell_type": "markdown",
   "metadata": {},
   "source": [
    "### Please run through the strategy notebook first. This will create the container image."
   ]
  },
  {
   "cell_type": "code",
   "execution_count": 1,
   "metadata": {},
   "outputs": [],
   "source": [
    "strategy_image=\"algo_daily_breakout\""
   ]
  },
  {
   "cell_type": "code",
   "execution_count": 3,
   "metadata": {},
   "outputs": [
    {
     "name": "stdout",
     "output_type": "stream",
     "text": [
      "create docker-compose.yml\n",
      "create ecs-params.yml\n",
      "  % Total    % Received % Xferd  Average Speed   Time    Time     Time  Current\n",
      "                                 Dload  Upload   Total   Spent    Left  Speed\n",
      "100 35.6M  100 35.6M    0     0  91.1M      0 --:--:-- --:--:-- --:--:-- 91.2M\n",
      "ecs-cli installed\n",
      "\u001b[36mINFO\u001b[0m[0000] Saved ECS CLI cluster configuration default. \n"
     ]
    }
   ],
   "source": [
    "!/bin/bash ./deploy.sh $strategy_image"
   ]
  },
  {
   "cell_type": "code",
   "execution_count": 5,
   "metadata": {},
   "outputs": [
    {
     "name": "stdout",
     "output_type": "stream",
     "text": [
      "\u001b[36mINFO\u001b[0m[0000] Using ECS task definition                     \u001b[36mTaskDefinition\u001b[0m=\"2_Strategies:2\"\n",
      "\u001b[36mINFO\u001b[0m[0000] Auto-enabling ECS Managed Tags               \n",
      "\u001b[36mINFO\u001b[0m[0001] Starting container...                         \u001b[36mcontainer\u001b[0m=algo/cef9b7aad65b465db7697e9719b6a2d1/algo_daily_breakout\n",
      "\u001b[36mINFO\u001b[0m[0001] Describe ECS container status                 \u001b[36mcontainer\u001b[0m=algo/cef9b7aad65b465db7697e9719b6a2d1/algo_daily_breakout \u001b[36mdesiredStatus\u001b[0m=RUNNING \u001b[36mlastStatus\u001b[0m=PROVISIONING \u001b[36mtaskDefinition\u001b[0m=\"2_Strategies:2\"\n",
      "\u001b[36mINFO\u001b[0m[0013] Describe ECS container status                 \u001b[36mcontainer\u001b[0m=algo/cef9b7aad65b465db7697e9719b6a2d1/algo_daily_breakout \u001b[36mdesiredStatus\u001b[0m=RUNNING \u001b[36mlastStatus\u001b[0m=PENDING \u001b[36mtaskDefinition\u001b[0m=\"2_Strategies:2\"\n",
      "\u001b[36mINFO\u001b[0m[0025] Describe ECS container status                 \u001b[36mcontainer\u001b[0m=algo/cef9b7aad65b465db7697e9719b6a2d1/algo_daily_breakout \u001b[36mdesiredStatus\u001b[0m=RUNNING \u001b[36mlastStatus\u001b[0m=PENDING \u001b[36mtaskDefinition\u001b[0m=\"2_Strategies:2\"\n",
      "\u001b[36mINFO\u001b[0m[0037] Describe ECS container status                 \u001b[36mcontainer\u001b[0m=algo/cef9b7aad65b465db7697e9719b6a2d1/algo_daily_breakout \u001b[36mdesiredStatus\u001b[0m=RUNNING \u001b[36mlastStatus\u001b[0m=PENDING \u001b[36mtaskDefinition\u001b[0m=\"2_Strategies:2\"\n",
      "\u001b[36mINFO\u001b[0m[0049] Describe ECS container status                 \u001b[36mcontainer\u001b[0m=algo/cef9b7aad65b465db7697e9719b6a2d1/algo_daily_breakout \u001b[36mdesiredStatus\u001b[0m=RUNNING \u001b[36mlastStatus\u001b[0m=PENDING \u001b[36mtaskDefinition\u001b[0m=\"2_Strategies:2\"\n",
      "\u001b[36mINFO\u001b[0m[0061] Started container...                          \u001b[36mcontainer\u001b[0m=algo/cef9b7aad65b465db7697e9719b6a2d1/algo_daily_breakout \u001b[36mdesiredStatus\u001b[0m=RUNNING \u001b[36mlastStatus\u001b[0m=RUNNING \u001b[36mtaskDefinition\u001b[0m=\"2_Strategies:2\"\n"
     ]
    }
   ],
   "source": [
    "!./ecs-cli compose up"
   ]
  },
  {
   "cell_type": "code",
   "execution_count": null,
   "metadata": {},
   "outputs": [],
   "source": []
  }
 ],
 "metadata": {
  "kernelspec": {
   "display_name": "conda_python3",
   "language": "python",
   "name": "conda_python3"
  },
  "language_info": {
   "codemirror_mode": {
    "name": "ipython",
    "version": 3
   },
   "file_extension": ".py",
   "mimetype": "text/x-python",
   "name": "python",
   "nbconvert_exporter": "python",
   "pygments_lexer": "ipython3",
   "version": "3.10.18"
  }
 },
 "nbformat": 4,
 "nbformat_minor": 4
}
