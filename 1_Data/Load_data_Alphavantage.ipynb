{
 "cells": [
  {
   "cell_type": "code",
   "execution_count": 1,
   "id": "094e97da-6f21-424b-87d6-eecf8b478062",
   "metadata": {},
   "outputs": [
    {
     "name": "stdout",
     "output_type": "stream",
     "text": [
      "upload: ./load_alphavantage-news.py to s3://algotrading-demo-616431823260/scripts/dataloaders/load_alphavantage-news.py\n",
      "upload: ./load_alphavantage-ohlcv.py to s3://algotrading-demo-616431823260/scripts/dataloaders/load_alphavantage-ohlcv.py\n"
     ]
    }
   ],
   "source": [
    "import os\n",
    "import glob\n",
    "\n",
    "# get S3 bucket\n",
    "s3bucket=!(aws s3 ls | grep algotrading- | awk  '{print $3}')\n",
    "s3bucket=s3bucket[0]\n",
    "\n",
    "local_notebook_path = \"./\"  # Path to your notebook\n",
    "s3prefix = \"scripts/dataloaders\"\n",
    "file_location = local_notebook_path\n",
    "local_pattern = \"./load_*.py\"\n",
    "\n",
    "# List matching files\n",
    "matching_files = glob.glob(local_pattern)\n",
    "\n",
    "# Upload each file\n",
    "for file in matching_files:\n",
    "    s3_uri = f\"s3://{s3bucket}/{s3prefix}/{os.path.basename(file)}\"\n",
    "    os.system(f\"aws s3 cp {file} {s3_uri}\")"
   ]
  },
  {
   "cell_type": "code",
   "execution_count": 2,
   "id": "df565349-3ffd-4d62-b966-413d5cb8ee25",
   "metadata": {},
   "outputs": [
    {
     "name": "stdout",
     "output_type": "stream",
     "text": [
      "{\n",
      "    \"JobRunId\": \"jr_99a3470c86cd65683c661d1e70d3acef0eb9fd9ef7bcd4f37769326637b0a4dc\"\n",
      "}\n"
     ]
    }
   ],
   "source": [
    "!aws glue start-job-run --job-name \"load-alphavantage-news\""
   ]
  },
  {
   "cell_type": "code",
   "execution_count": 4,
   "id": "138407ad-0da9-4c13-bf37-40fab88a83e3",
   "metadata": {},
   "outputs": [
    {
     "name": "stdout",
     "output_type": "stream",
     "text": [
      "{\n",
      "    \"JobRunId\": \"jr_4de2ca6dbcba55f4f04ae648ea9ff28fdde3d939c71f1cdc3b577470d649b13b\"\n",
      "}\n"
     ]
    }
   ],
   "source": [
    "!aws glue start-job-run --job-name load-alphavantage-ohlcv"
   ]
  },
  {
   "cell_type": "code",
   "execution_count": null,
   "id": "e749816c-af44-49b5-bed9-f807ae49a36c",
   "metadata": {},
   "outputs": [],
   "source": []
  }
 ],
 "metadata": {
  "kernelspec": {
   "display_name": "conda_python3",
   "language": "python",
   "name": "conda_python3"
  },
  "language_info": {
   "codemirror_mode": {
    "name": "ipython",
    "version": 3
   },
   "file_extension": ".py",
   "mimetype": "text/x-python",
   "name": "python",
   "nbconvert_exporter": "python",
   "pygments_lexer": "ipython3",
   "version": "3.10.18"
  }
 },
 "nbformat": 4,
 "nbformat_minor": 5
}
