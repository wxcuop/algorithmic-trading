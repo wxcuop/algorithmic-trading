{
 "cells": [
  {
   "cell_type": "markdown",
   "metadata": {},
   "source": [
    "# Setup"
   ]
  },
  {
   "cell_type": "code",
   "execution_count": 9,
   "metadata": {
    "scrolled": true
   },
   "outputs": [
    {
     "name": "stdout",
     "output_type": "stream",
     "text": [
      "\n",
      "Waiting for changeset to be created..\n",
      "Waiting for stack create/update to complete\n",
      "\n",
      "Failed to create/update the stack. Run the following command\n",
      "to fetch the list of events leading up to the failure\n",
      "aws cloudformation describe-stack-events --stack-name algotrading-data-schema\n"
     ]
    }
   ],
   "source": [
    "!/bin/sh ./init_s3_bucket.sh"
   ]
  },
  {
   "cell_type": "code",
   "execution_count": 7,
   "metadata": {},
   "outputs": [
    {
     "name": "stdout",
     "output_type": "stream",
     "text": [
      "{\n",
      "    \"StackEvents\": [\n",
      "        {\n",
      "            \"StackId\": \"arn:aws:cloudformation:us-east-1:616431823260:stack/algotrading-data-schema/e2d4aae0-46f7-11f0-9bdb-0ebb0073c95b\",\n",
      "            \"EventId\": \"e8939d60-46f7-11f0-b471-125efeaafd0d\",\n",
      "            \"StackName\": \"algotrading-data-schema\",\n",
      "            \"LogicalResourceId\": \"algotrading-data-schema\",\n",
      "            \"PhysicalResourceId\": \"arn:aws:cloudformation:us-east-1:616431823260:stack/algotrading-data-schema/e2d4aae0-46f7-11f0-9bdb-0ebb0073c95b\",\n",
      "            \"ResourceType\": \"AWS::CloudFormation::Stack\",\n",
      "            \"Timestamp\": \"2025-06-11T19:11:42.125Z\",\n",
      "            \"ResourceStatus\": \"ROLLBACK_COMPLETE\"\n",
      "        },\n",
      "        {\n",
      "            \"StackId\": \"arn:aws:cloudformation:us-east-1:616431823260:stack/algotrading-data-schema/e2d4aae0-46f7-11f0-9bdb-0ebb0073c95b\",\n",
      "            \"EventId\": \"e790d360-46f7-11f0-98c9-12cf86098149\",\n",
      "            \"StackName\": \"algotrading-data-schema\",\n",
      "            \"LogicalResourceId\": \"algotrading-data-schema\",\n",
      "            \"PhysicalResourceId\": \"arn:aws:cloudformation:us-east-1:616431823260:stack/algotrading-data-schema/e2d4aae0-46f7-11f0-9bdb-0ebb0073c95b\",\n",
      "            \"ResourceType\": \"AWS::CloudFormation::Stack\",\n",
      "            \"Timestamp\": \"2025-06-11T19:11:40.429Z\",\n",
      "            \"ResourceStatus\": \"ROLLBACK_IN_PROGRESS\",\n",
      "            \"ResourceStatusReason\": \"No export named algotrading-s3bucket found. Rollback requested by user.\"\n",
      "        },\n",
      "        {\n",
      "            \"StackId\": \"arn:aws:cloudformation:us-east-1:616431823260:stack/algotrading-data-schema/e2d4aae0-46f7-11f0-9bdb-0ebb0073c95b\",\n",
      "            \"EventId\": \"e624e750-46f7-11f0-9bdb-0ebb0073c95b\",\n",
      "            \"StackName\": \"algotrading-data-schema\",\n",
      "            \"LogicalResourceId\": \"algotrading-data-schema\",\n",
      "            \"PhysicalResourceId\": \"arn:aws:cloudformation:us-east-1:616431823260:stack/algotrading-data-schema/e2d4aae0-46f7-11f0-9bdb-0ebb0073c95b\",\n",
      "            \"ResourceType\": \"AWS::CloudFormation::Stack\",\n",
      "            \"Timestamp\": \"2025-06-11T19:11:38.039Z\",\n",
      "            \"ResourceStatus\": \"CREATE_IN_PROGRESS\",\n",
      "            \"ResourceStatusReason\": \"User Initiated\"\n",
      "        },\n",
      "        {\n",
      "            \"StackId\": \"arn:aws:cloudformation:us-east-1:616431823260:stack/algotrading-data-schema/e2d4aae0-46f7-11f0-9bdb-0ebb0073c95b\",\n",
      "            \"EventId\": \"e2d435b0-46f7-11f0-9bdb-0ebb0073c95b\",\n",
      "            \"StackName\": \"algotrading-data-schema\",\n",
      "            \"LogicalResourceId\": \"algotrading-data-schema\",\n",
      "            \"PhysicalResourceId\": \"arn:aws:cloudformation:us-east-1:616431823260:stack/algotrading-data-schema/e2d4aae0-46f7-11f0-9bdb-0ebb0073c95b\",\n",
      "            \"ResourceType\": \"AWS::CloudFormation::Stack\",\n",
      "            \"Timestamp\": \"2025-06-11T19:11:32.600Z\",\n",
      "            \"ResourceStatus\": \"REVIEW_IN_PROGRESS\",\n",
      "            \"ResourceStatusReason\": \"User Initiated\"\n",
      "        }\n",
      "    ]\n",
      "}\n"
     ]
    }
   ],
   "source": [
    "!aws cloudformation describe-stack-events --stack-name algotrading-data-schema\n"
   ]
  },
  {
   "cell_type": "code",
   "execution_count": null,
   "metadata": {},
   "outputs": [],
   "source": [
    "!./init_schema.sh"
   ]
  },
  {
   "cell_type": "code",
   "execution_count": null,
   "metadata": {},
   "outputs": [],
   "source": [
    "!pip install sagemaker-studio-image-build"
   ]
  },
  {
   "cell_type": "code",
   "execution_count": null,
   "metadata": {
    "scrolled": true
   },
   "outputs": [],
   "source": [
    "!sm-docker build docker/. --repository algotrading:1.0"
   ]
  },
  {
   "cell_type": "markdown",
   "metadata": {},
   "source": [
    "# Attach Container as SageMaker Kernel"
   ]
  },
  {
   "cell_type": "code",
   "execution_count": null,
   "metadata": {},
   "outputs": [],
   "source": [
    "import sagemaker as sage\n",
    "from sagemaker import get_execution_role\n",
    "\n",
    "role = get_execution_role()\n",
    "sess = sage.Session()\n",
    "\n",
    "account = sess.boto_session.client('sts').get_caller_identity()['Account']\n",
    "region = sess.boto_session.region_name"
   ]
  },
  {
   "cell_type": "code",
   "execution_count": null,
   "metadata": {},
   "outputs": [],
   "source": [
    "!aws --region {region} sagemaker delete-image-version --image-name algotrading --version-number=1\n",
    "!aws --region {region} sagemaker list-image-versions --image-name algotrading\n",
    "!aws --region {region} sagemaker delete-image --image-name algotrading\n",
    "!aws --region {region} sagemaker list-images\n",
    "!aws --region {region} sagemaker delete-app-image-config --app-image-config-name=algotrading-config\n",
    "!aws --region {region} sagemaker list-app-image-configs"
   ]
  },
  {
   "cell_type": "code",
   "execution_count": null,
   "metadata": {},
   "outputs": [],
   "source": [
    "!aws --region {region} sagemaker create-image --image-name algotrading --role-arn {role}\n",
    "!aws --region {region} sagemaker list-images\n",
    "!aws --region {region} sagemaker create-image-version --image-name algotrading --base-image \"{account}.dkr.ecr.{region}.amazonaws.com/algotrading:1.0\"\n",
    "!aws --region {region} sagemaker list-image-versions --image-name algotrading\n",
    "!aws --region {region} sagemaker create-app-image-config --cli-input-json file://app-image-config-input.json\n",
    "!aws --region {region} sagemaker list-app-image-configs"
   ]
  },
  {
   "cell_type": "code",
   "execution_count": null,
   "metadata": {},
   "outputs": [],
   "source": [
    "domainid=!(aws --region {region} sagemaker list-domains --query 'Domains[0].DomainId' --output text)\n",
    "domainid=domainid[0]\n",
    "domainid"
   ]
  },
  {
   "cell_type": "code",
   "execution_count": null,
   "metadata": {},
   "outputs": [],
   "source": [
    "!aws --region {region} sagemaker update-domain --domain-id {domainid} --cli-input-json file://default-user-settings.json"
   ]
  }
 ],
 "metadata": {
  "instance_type": "ml.t3.medium",
  "kernelspec": {
   "display_name": "conda_tensorflow2_p310",
   "language": "python",
   "name": "conda_tensorflow2_p310"
  },
  "language_info": {
   "codemirror_mode": {
    "name": "ipython",
    "version": 3
   },
   "file_extension": ".py",
   "mimetype": "text/x-python",
   "name": "python",
   "nbconvert_exporter": "python",
   "pygments_lexer": "ipython3",
   "version": "3.10.18"
  }
 },
 "nbformat": 4,
 "nbformat_minor": 4
}
