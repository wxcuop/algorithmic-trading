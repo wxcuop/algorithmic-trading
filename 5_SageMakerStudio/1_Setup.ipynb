{
 "cells": [
  {
   "cell_type": "markdown",
   "metadata": {},
   "source": [
    "# Setup"
   ]
  },
  {
   "cell_type": "code",
   "execution_count": null,
   "metadata": {
    "scrolled": true
   },
   "outputs": [],
   "source": [
    "!./init_s3_bucket.sh"
   ]
  },
  {
   "cell_type": "code",
   "execution_count": null,
   "metadata": {},
   "outputs": [],
   "source": [
    "!./init_schema.sh"
   ]
  },
  {
   "cell_type": "code",
   "execution_count": null,
   "metadata": {},
   "outputs": [],
   "source": [
    "!pip install sagemaker-studio-image-build"
   ]
  },
  {
   "cell_type": "code",
   "execution_count": null,
   "metadata": {
    "scrolled": true
   },
   "outputs": [],
   "source": [
    "!sm-docker build docker/. --repository algotrading:1.0"
   ]
  },
  {
   "cell_type": "markdown",
   "metadata": {},
   "source": [
    "# Attach Container as SageMaker Kernel"
   ]
  },
  {
   "cell_type": "code",
   "execution_count": null,
   "metadata": {},
   "outputs": [],
   "source": [
    "import sagemaker as sage\n",
    "from sagemaker import get_execution_role\n",
    "\n",
    "role = get_execution_role()\n",
    "sess = sage.Session()\n",
    "\n",
    "account = sess.boto_session.client('sts').get_caller_identity()['Account']\n",
    "region = sess.boto_session.region_name"
   ]
  },
  {
   "cell_type": "code",
   "execution_count": null,
   "metadata": {},
   "outputs": [],
   "source": [
    "!aws --region {region} sagemaker delete-image-version --image-name algotrading --version-number=1\n",
    "!aws --region {region} sagemaker list-image-versions --image-name algotrading\n",
    "!aws --region {region} sagemaker delete-image --image-name algotrading\n",
    "!aws --region {region} sagemaker list-images\n",
    "!aws --region {region} sagemaker delete-app-image-config --app-image-config-name=algotrading-config\n",
    "!aws --region {region} sagemaker list-app-image-configs"
   ]
  },
  {
   "cell_type": "code",
   "execution_count": null,
   "metadata": {},
   "outputs": [],
   "source": [
    "!aws --region {region} sagemaker create-image --image-name algotrading --role-arn {role}\n",
    "!aws --region {region} sagemaker list-images\n",
    "!aws --region {region} sagemaker create-image-version --image-name algotrading --base-image \"{account}.dkr.ecr.{region}.amazonaws.com/algotrading:1.0\"\n",
    "!aws --region {region} sagemaker list-image-versions --image-name algotrading\n",
    "!aws --region {region} sagemaker create-app-image-config --cli-input-json file://app-image-config-input.json\n",
    "!aws --region {region} sagemaker list-app-image-configs"
   ]
  },
  {
   "cell_type": "code",
   "execution_count": null,
   "metadata": {},
   "outputs": [],
   "source": [
    "domainid=!(aws --region {region} sagemaker list-domains --query 'Domains[0].DomainId' --output text)\n",
    "domainid=domainid[0]\n",
    "domainid"
   ]
  },
  {
   "cell_type": "code",
   "execution_count": null,
   "metadata": {},
   "outputs": [],
   "source": [
    "!aws --region {region} sagemaker update-domain --domain-id {domainid} --cli-input-json file://default-user-settings.json"
   ]
  }
 ],
 "metadata": {
  "instance_type": "ml.t3.medium",
  "kernelspec": {
   "display_name": "Python 3 (Data Science)",
   "language": "python",
   "name": "python3__SAGEMAKER_INTERNAL__arn:aws:sagemaker:us-east-1:081325390199:image/datascience-1.0"
  },
  "language_info": {
   "codemirror_mode": {
    "name": "ipython",
    "version": 3
   },
   "file_extension": ".py",
   "mimetype": "text/x-python",
   "name": "python",
   "nbconvert_exporter": "python",
   "pygments_lexer": "ipython3",
   "version": "3.7.10"
  }
 },
 "nbformat": 4,
 "nbformat_minor": 4
}
